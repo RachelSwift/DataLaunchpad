{
 "cells": [
  {
   "cell_type": "code",
   "execution_count": 11,
   "id": "2ed1fa31",
   "metadata": {},
   "outputs": [],
   "source": [
    "import pandas as pd\n",
    "import os\n",
    "# os.chdir(\"/Users/r.swift/Documents/LearningAndDevelopment/DataLaunchPad/datalaunchpad-project\")"
   ]
  },
  {
   "cell_type": "code",
   "execution_count": 16,
   "id": "2a975692",
   "metadata": {},
   "outputs": [],
   "source": [
    "parquet_data = pd.read_parquet(\"yellow_tripdata_2022-09.parquet\")\n",
    "ny_taxi_zones = pd.read_csv(\"taxi_zones.csv\")"
   ]
  },
  {
   "cell_type": "markdown",
   "id": "48165b6b",
   "metadata": {},
   "source": [
    "# Data Exploration"
   ]
  },
  {
   "cell_type": "code",
   "execution_count": 35,
   "id": "3254802a",
   "metadata": {},
   "outputs": [
    {
     "name": "stdout",
     "output_type": "stream",
     "text": [
      "Index(['VendorID', 'tpep_pickup_datetime', 'tpep_dropoff_datetime',\n",
      "       'passenger_count', 'trip_distance', 'RatecodeID', 'store_and_fwd_flag',\n",
      "       'PULocationID', 'DOLocationID', 'payment_type', 'fare_amount', 'extra',\n",
      "       'mta_tax', 'tip_amount', 'tolls_amount', 'improvement_surcharge',\n",
      "       'total_amount', 'congestion_surcharge', 'airport_fee'],\n",
      "      dtype='object')\n"
     ]
    },
    {
     "data": {
      "text/plain": [
       "array([ 1.,  3.,  2.,  5.,  0.,  4.,  6.,  7.,  9.,  8., nan])"
      ]
     },
     "execution_count": 35,
     "metadata": {},
     "output_type": "execute_result"
    }
   ],
   "source": [
    "print(parquet_data.columns)\n",
    "parquet_data['passenger_count'].unique()\n"
   ]
  },
  {
   "cell_type": "code",
   "execution_count": 17,
   "id": "05abb5c6",
   "metadata": {},
   "outputs": [
    {
     "data": {
      "text/html": [
       "<div>\n",
       "<style scoped>\n",
       "    .dataframe tbody tr th:only-of-type {\n",
       "        vertical-align: middle;\n",
       "    }\n",
       "\n",
       "    .dataframe tbody tr th {\n",
       "        vertical-align: top;\n",
       "    }\n",
       "\n",
       "    .dataframe thead th {\n",
       "        text-align: right;\n",
       "    }\n",
       "</style>\n",
       "<table border=\"1\" class=\"dataframe\">\n",
       "  <thead>\n",
       "    <tr style=\"text-align: right;\">\n",
       "      <th></th>\n",
       "      <th>OBJECTID</th>\n",
       "      <th>Shape_Leng</th>\n",
       "      <th>the_geom</th>\n",
       "      <th>Shape_Area</th>\n",
       "      <th>zone</th>\n",
       "      <th>LocationID</th>\n",
       "      <th>borough</th>\n",
       "    </tr>\n",
       "  </thead>\n",
       "  <tbody>\n",
       "    <tr>\n",
       "      <th>0</th>\n",
       "      <td>1</td>\n",
       "      <td>0.116357</td>\n",
       "      <td>MULTIPOLYGON (((-74.18445299999996 40.69499599...</td>\n",
       "      <td>0.000782</td>\n",
       "      <td>Newark Airport</td>\n",
       "      <td>1</td>\n",
       "      <td>EWR</td>\n",
       "    </tr>\n",
       "    <tr>\n",
       "      <th>1</th>\n",
       "      <td>2</td>\n",
       "      <td>0.433470</td>\n",
       "      <td>MULTIPOLYGON (((-73.82337597260663 40.63898704...</td>\n",
       "      <td>0.004866</td>\n",
       "      <td>Jamaica Bay</td>\n",
       "      <td>2</td>\n",
       "      <td>Queens</td>\n",
       "    </tr>\n",
       "    <tr>\n",
       "      <th>2</th>\n",
       "      <td>3</td>\n",
       "      <td>0.084341</td>\n",
       "      <td>MULTIPOLYGON (((-73.84792614099985 40.87134223...</td>\n",
       "      <td>0.000314</td>\n",
       "      <td>Allerton/Pelham Gardens</td>\n",
       "      <td>3</td>\n",
       "      <td>Bronx</td>\n",
       "    </tr>\n",
       "    <tr>\n",
       "      <th>3</th>\n",
       "      <td>4</td>\n",
       "      <td>0.043567</td>\n",
       "      <td>MULTIPOLYGON (((-73.97177410965318 40.72582128...</td>\n",
       "      <td>0.000112</td>\n",
       "      <td>Alphabet City</td>\n",
       "      <td>4</td>\n",
       "      <td>Manhattan</td>\n",
       "    </tr>\n",
       "    <tr>\n",
       "      <th>4</th>\n",
       "      <td>5</td>\n",
       "      <td>0.092146</td>\n",
       "      <td>MULTIPOLYGON (((-74.17421738099989 40.56256808...</td>\n",
       "      <td>0.000498</td>\n",
       "      <td>Arden Heights</td>\n",
       "      <td>5</td>\n",
       "      <td>Staten Island</td>\n",
       "    </tr>\n",
       "    <tr>\n",
       "      <th>...</th>\n",
       "      <td>...</td>\n",
       "      <td>...</td>\n",
       "      <td>...</td>\n",
       "      <td>...</td>\n",
       "      <td>...</td>\n",
       "      <td>...</td>\n",
       "      <td>...</td>\n",
       "    </tr>\n",
       "    <tr>\n",
       "      <th>258</th>\n",
       "      <td>256</td>\n",
       "      <td>0.067915</td>\n",
       "      <td>MULTIPOLYGON (((-73.95834207500002 40.71330630...</td>\n",
       "      <td>0.000169</td>\n",
       "      <td>Williamsburg (South Side)</td>\n",
       "      <td>256</td>\n",
       "      <td>Brooklyn</td>\n",
       "    </tr>\n",
       "    <tr>\n",
       "      <th>259</th>\n",
       "      <td>259</td>\n",
       "      <td>0.126750</td>\n",
       "      <td>MULTIPOLYGON (((-73.85107116191898 40.91037152...</td>\n",
       "      <td>0.000395</td>\n",
       "      <td>Woodlawn/Wakefield</td>\n",
       "      <td>259</td>\n",
       "      <td>Bronx</td>\n",
       "    </tr>\n",
       "    <tr>\n",
       "      <th>260</th>\n",
       "      <td>260</td>\n",
       "      <td>0.133514</td>\n",
       "      <td>MULTIPOLYGON (((-73.90175373399988 40.76077547...</td>\n",
       "      <td>0.000422</td>\n",
       "      <td>Woodside</td>\n",
       "      <td>260</td>\n",
       "      <td>Queens</td>\n",
       "    </tr>\n",
       "    <tr>\n",
       "      <th>261</th>\n",
       "      <td>261</td>\n",
       "      <td>0.027120</td>\n",
       "      <td>MULTIPOLYGON (((-74.01332610899988 40.70503078...</td>\n",
       "      <td>0.000034</td>\n",
       "      <td>World Trade Center</td>\n",
       "      <td>261</td>\n",
       "      <td>Manhattan</td>\n",
       "    </tr>\n",
       "    <tr>\n",
       "      <th>262</th>\n",
       "      <td>262</td>\n",
       "      <td>0.049064</td>\n",
       "      <td>MULTIPOLYGON (((-73.94383256699986 40.78285908...</td>\n",
       "      <td>0.000122</td>\n",
       "      <td>Yorkville East</td>\n",
       "      <td>262</td>\n",
       "      <td>Manhattan</td>\n",
       "    </tr>\n",
       "  </tbody>\n",
       "</table>\n",
       "<p>263 rows × 7 columns</p>\n",
       "</div>"
      ],
      "text/plain": [
       "     OBJECTID  Shape_Leng                                           the_geom  \\\n",
       "0           1    0.116357  MULTIPOLYGON (((-74.18445299999996 40.69499599...   \n",
       "1           2    0.433470  MULTIPOLYGON (((-73.82337597260663 40.63898704...   \n",
       "2           3    0.084341  MULTIPOLYGON (((-73.84792614099985 40.87134223...   \n",
       "3           4    0.043567  MULTIPOLYGON (((-73.97177410965318 40.72582128...   \n",
       "4           5    0.092146  MULTIPOLYGON (((-74.17421738099989 40.56256808...   \n",
       "..        ...         ...                                                ...   \n",
       "258       256    0.067915  MULTIPOLYGON (((-73.95834207500002 40.71330630...   \n",
       "259       259    0.126750  MULTIPOLYGON (((-73.85107116191898 40.91037152...   \n",
       "260       260    0.133514  MULTIPOLYGON (((-73.90175373399988 40.76077547...   \n",
       "261       261    0.027120  MULTIPOLYGON (((-74.01332610899988 40.70503078...   \n",
       "262       262    0.049064  MULTIPOLYGON (((-73.94383256699986 40.78285908...   \n",
       "\n",
       "     Shape_Area                       zone  LocationID        borough  \n",
       "0      0.000782             Newark Airport           1            EWR  \n",
       "1      0.004866                Jamaica Bay           2         Queens  \n",
       "2      0.000314    Allerton/Pelham Gardens           3          Bronx  \n",
       "3      0.000112              Alphabet City           4      Manhattan  \n",
       "4      0.000498              Arden Heights           5  Staten Island  \n",
       "..          ...                        ...         ...            ...  \n",
       "258    0.000169  Williamsburg (South Side)         256       Brooklyn  \n",
       "259    0.000395         Woodlawn/Wakefield         259          Bronx  \n",
       "260    0.000422                   Woodside         260         Queens  \n",
       "261    0.000034         World Trade Center         261      Manhattan  \n",
       "262    0.000122             Yorkville East         262      Manhattan  \n",
       "\n",
       "[263 rows x 7 columns]"
      ]
     },
     "execution_count": 17,
     "metadata": {},
     "output_type": "execute_result"
    }
   ],
   "source": []
  },
  {
   "cell_type": "code",
   "execution_count": 21,
   "id": "69dc1e18",
   "metadata": {},
   "outputs": [
    {
     "data": {
      "text/plain": [
       "3683"
      ]
     },
     "execution_count": 21,
     "metadata": {},
     "output_type": "execute_result"
    }
   ],
   "source": [
    "len(parquet_data['tip_amount'].unique())"
   ]
  },
  {
   "cell_type": "code",
   "execution_count": null,
   "id": "8ea91c3a",
   "metadata": {},
   "outputs": [],
   "source": []
  },
  {
   "cell_type": "code",
   "execution_count": null,
   "id": "ee79de29",
   "metadata": {},
   "outputs": [],
   "source": []
  }
 ],
 "metadata": {
  "kernelspec": {
   "display_name": "Python 3 (ipykernel)",
   "language": "python",
   "name": "python3"
  },
  "language_info": {
   "codemirror_mode": {
    "name": "ipython",
    "version": 3
   },
   "file_extension": ".py",
   "mimetype": "text/x-python",
   "name": "python",
   "nbconvert_exporter": "python",
   "pygments_lexer": "ipython3",
   "version": "3.9.6"
  }
 },
 "nbformat": 4,
 "nbformat_minor": 5
}
